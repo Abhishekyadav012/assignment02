{
 "cells": [
  {
   "cell_type": "markdown",
   "id": "305b491e-6bff-443c-8544-33ae2f739f69",
   "metadata": {
    "jupyter": {
     "source_hidden": true
    },
    "tags": []
   },
   "source": [
    "Q1.)\n",
    "\n",
    "Comments Are Non Executable Statement.\n",
    "There Are Two Types Of Comment in python \n",
    "1. Single Line Comment\n",
    "2. Multi Line  Comment\n",
    "\n",
    "Single line comment Start with A Hash Symbol(#)\n",
    "\n",
    "#PW SKILL\n",
    "#SHUDHANSHU\n",
    "\n",
    "Multi line comment Start with Double Triple quptes(\"\"\") Or TRiple Single quotes(''')\n",
    "\n",
    "EX: \n",
    "\"\"\" PW SKILL\n",
    "DATA SCIENCE\n",
    "SUDHANSHU SIR\"\"\""
   ]
  },
  {
   "cell_type": "code",
   "execution_count": null,
   "id": "8f92b1e2-a9b9-4ad6-9108-3bd3a371f2de",
   "metadata": {
    "tags": []
   },
   "outputs": [],
   "source": [
    "# WHAT ARE VARIABLE IN PYTHON\n",
    "        \n",
    "\n",
    "VARIABLE IS  THE STORE THE VALUE OF PROGRAMMER THIS IS USE TO OUR PROGRAM.\n",
    "PYTHON HAS NO COMMAND TO DECLARE A VARIABLE\n",
    "\n",
    "X=233;\n",
    "Y='PW SKILL'"
   ]
  },
  {
   "cell_type": "code",
   "execution_count": 15,
   "id": "f25a28ab-bbd3-40e4-b528-a7509d69e430",
   "metadata": {},
   "outputs": [
    {
     "name": "stdin",
     "output_type": "stream",
     "text": [
      "enter the number 3\n"
     ]
    }
   ],
   "source": [
    "'''Q3. HOW DO YOU CONVERT ONE DATA TYPE TO ANOTHER DATA TYPE'''\n",
    "\n",
    "#THIS METHOD KNOWN AS TYPE CASTING \n",
    "M=int(input('enter the number'))\n",
    "a=7.14\n",
    "b=789\n",
    "a=int(a)\n",
    "b=float(b)\n",
    "\n",
    "\n"
   ]
  },
  {
   "cell_type": "markdown",
   "id": "2641a4c3-3c4b-404f-93fd-32f2e99f3db8",
   "metadata": {
    "jupyter": {
     "source_hidden": true
    },
    "tags": []
   },
   "source": [
    "####HOW DO YOU WRITE AND EXECUTE A PYTHON SCRIPT FROM THE COMMAND LINE"
   ]
  },
  {
   "cell_type": "code",
   "execution_count": 19,
   "id": "e2380bc0-880f-4fc6-8f86-ab16009d337e",
   "metadata": {},
   "outputs": [
    {
     "name": "stdout",
     "output_type": "stream",
     "text": [
      "the number of command line argument 3\n",
      "the list of command line argument ['/opt/conda/lib/python3.10/site-packages/ipykernel_launcher.py', '-f', '/home/jovyan/.local/share/jupyter/runtime/kernel-58a32831-ffd0-4033-b93e-7bab7fa2469f.json']\n",
      "/opt/conda/lib/python3.10/site-packages/ipykernel_launcher.py\n",
      "-f\n",
      "/home/jovyan/.local/share/jupyter/runtime/kernel-58a32831-ffd0-4033-b93e-7bab7fa2469f.json\n"
     ]
    }
   ],
   "source": [
    "#TIHS COMMAND LINE ARGUMENTS IS ANOTHER WAY TO READ THE USER PROVIDE DATA\n",
    "from sys import argv\n",
    "print(\"the number of command line argument\",len(argv))\n",
    "print(\"the list of command line argument\",argv)\n",
    "for i in argv:\n",
    "    print(i)"
   ]
  },
  {
   "cell_type": "code",
   "execution_count": 20,
   "id": "fa3c1d3b-cca7-4c50-8fb7-7f133166dfed",
   "metadata": {},
   "outputs": [
    {
     "name": "stdout",
     "output_type": "stream",
     "text": [
      "<class 'list'>\n"
     ]
    }
   ],
   "source": [
    "print(type(argv))"
   ]
  },
  {
   "cell_type": "markdown",
   "id": "dc808ece-6a28-4a7b-8e07-406498a1464d",
   "metadata": {},
   "source": [
    "GIVEN A LIST MY_LIST=[1,2,3,4,5] WRITE THE CODE TO SLICE THE LIST AND OBTAIN THE SUB-LIST[2,3].\n"
   ]
  },
  {
   "cell_type": "code",
   "execution_count": 24,
   "id": "15b93f4c-fba9-4830-a970-185e6583417f",
   "metadata": {},
   "outputs": [
    {
     "name": "stdout",
     "output_type": "stream",
     "text": [
      "[2, 3]\n"
     ]
    }
   ],
   "source": [
    "my_list=[1,2,3,4,5]\n",
    "my_list1=slice(1,3)\n",
    "print(my_list[my_list1])"
   ]
  },
  {
   "cell_type": "markdown",
   "id": "9bde10fa-a2e2-43c9-ab81-592e7829afde",
   "metadata": {},
   "source": [
    "WHAT IS COMPLEX  NUMBER IN MATHEMATICS AND HOW IS IT REPERSENTED IN PYHTHON"
   ]
  },
  {
   "cell_type": "code",
   "execution_count": null,
   "id": "51a8d23d-1aee-4d0e-b8ee-6c0f03bed4a6",
   "metadata": {},
   "outputs": [],
   "source": [
    "COMPLEX NUMBER S ARE THE NUMBER THAT ARE EXPRESSED IN THE FORM OF A+Bi WHERE A IS REAL NUMBER AND Bi  IS \n",
    "IMAGINARY NUMBER CALLED 'iota' \n",
    "EXAMPLE 2+3i\n",
    "\n",
    "WHERE \n",
    "2 IS A REAL NUMBER AND \n",
    "3i IS A IMAGINARY NUMBER\n",
    "COMBINATOIN OF BOTH REAL NUMBER AND IMAGINARY NUMBER ARE CALLED COMPLEX NUMBER"
   ]
  },
  {
   "cell_type": "code",
   "execution_count": 25,
   "id": "a94fb3d1-88f7-45e5-8bc6-02f049fc8a66",
   "metadata": {},
   "outputs": [
    {
     "name": "stdout",
     "output_type": "stream",
     "text": [
      "(4+7j)\n"
     ]
    }
   ],
   "source": [
    "#IN PYTHON REAL PART AND IMAGINARY PART BOTH ARE ZERO THE FALSE OTHERWISE ANY ONE IS NON ZERO VALUE THEN GET TRUE\n",
    "\n",
    "a=complex(4,7)\n",
    "print(a)\n"
   ]
  },
  {
   "cell_type": "code",
   "execution_count": 26,
   "id": "fbde211d-a6aa-4afc-bd1c-c990e128c2e7",
   "metadata": {},
   "outputs": [
    {
     "data": {
      "text/plain": [
       "True"
      ]
     },
     "execution_count": 26,
     "metadata": {},
     "output_type": "execute_result"
    }
   ],
   "source": [
    "bool(10+20j)"
   ]
  },
  {
   "cell_type": "code",
   "execution_count": 27,
   "id": "2863df21-e50b-486c-8a88-496d276fd5d7",
   "metadata": {},
   "outputs": [
    {
     "data": {
      "text/plain": [
       "False"
      ]
     },
     "execution_count": 27,
     "metadata": {},
     "output_type": "execute_result"
    }
   ],
   "source": [
    "bool(0+0j)"
   ]
  },
  {
   "cell_type": "code",
   "execution_count": 28,
   "id": "e4adf39c-485e-4494-99ce-61e4a30360b0",
   "metadata": {},
   "outputs": [
    {
     "data": {
      "text/plain": [
       "True"
      ]
     },
     "execution_count": 28,
     "metadata": {},
     "output_type": "execute_result"
    }
   ],
   "source": [
    "bool(0+4j)"
   ]
  },
  {
   "cell_type": "markdown",
   "id": "eafb0909-8d09-4611-87d4-32eecb5d1375",
   "metadata": {},
   "source": [
    "WHAT IS THE CORRECT WAY TO DECLARE A VARIABLE NAMED AGE AND ASSIGN THE VALUE 25 TO IT"
   ]
  },
  {
   "cell_type": "code",
   "execution_count": 29,
   "id": "393e541b-5c75-4b18-98b4-b5acfec0007f",
   "metadata": {},
   "outputs": [
    {
     "name": "stdout",
     "output_type": "stream",
     "text": [
      "25\n"
     ]
    }
   ],
   "source": [
    "age=25\n",
    "print()"
   ]
  },
  {
   "cell_type": "markdown",
   "id": "e01eacdb-c250-4d0c-9711-2dfd33793789",
   "metadata": {},
   "source": [
    "DECLEAR THE  VARIABLE NAMED  PRICE AND ASSIGN THE VALUE OF 9.99 TO IT.WHAT DATA TYPE DOES THIS VARIABLE BELONG TO "
   ]
  },
  {
   "cell_type": "code",
   "execution_count": 1,
   "id": "e2fc83b4-9bce-44ed-8632-2842c7fa48f0",
   "metadata": {},
   "outputs": [
    {
     "data": {
      "text/plain": [
       "float"
      ]
     },
     "execution_count": 1,
     "metadata": {},
     "output_type": "execute_result"
    }
   ],
   "source": [
    "price=9.99\n",
    "type(price)"
   ]
  },
  {
   "cell_type": "markdown",
   "id": "ff80aa64-eba0-49d6-a7d8-25206cb37561",
   "metadata": {},
   "source": [
    "CREATE A VARIABLE NAMED NAME  AND ASSIGN YOUR FULL NAME TO IT AS STRING.HOW WOULD YOU PRINT THE VALUE OF THIS VARIABLE  "
   ]
  },
  {
   "cell_type": "code",
   "execution_count": 2,
   "id": "cb5ad5b5-13f8-4af6-a8d1-b5f45186d950",
   "metadata": {},
   "outputs": [
    {
     "name": "stdout",
     "output_type": "stream",
     "text": [
      "Abhishek\n"
     ]
    }
   ],
   "source": [
    "name=\"Abhishek\"\n",
    "print (name)"
   ]
  },
  {
   "cell_type": "markdown",
   "id": "78f61874-6312-4fcf-90d8-ff9717e21c99",
   "metadata": {},
   "source": [
    "Given the string \"Hello, World!\", extract the substring \"World"
   ]
  },
  {
   "cell_type": "code",
   "execution_count": 6,
   "id": "1c0ab568-c3ef-47f6-83d9-f414613fbb96",
   "metadata": {},
   "outputs": [
    {
     "name": "stdout",
     "output_type": "stream",
     "text": [
      "world\n"
     ]
    }
   ],
   "source": [
    "a=\"hello world\"\n",
    "print(a[6:11])"
   ]
  },
  {
   "cell_type": "markdown",
   "id": "0a9051ab-a569-4262-8f00-0e6773609724",
   "metadata": {},
   "source": [
    "CREATE A VARIABLE NAMED  \"IS_STUDENT\" AND ASSIGN IT A BOOLEAN VALUE INDICATING WHETHER YOU ARE CURRENTLY A STUDENT OR NOT"
   ]
  },
  {
   "cell_type": "code",
   "execution_count": null,
   "id": "0e5537a5-3576-4224-8daa-389e94ba7e05",
   "metadata": {},
   "outputs": [],
   "source": [
    "is_student=True\n",
    "In this exam"
   ]
  }
 ],
 "metadata": {
  "kernelspec": {
   "display_name": "Python 3 (ipykernel)",
   "language": "python",
   "name": "python3"
  },
  "language_info": {
   "codemirror_mode": {
    "name": "ipython",
    "version": 3
   },
   "file_extension": ".py",
   "mimetype": "text/x-python",
   "name": "python",
   "nbconvert_exporter": "python",
   "pygments_lexer": "ipython3",
   "version": "3.10.8"
  }
 },
 "nbformat": 4,
 "nbformat_minor": 5
}
